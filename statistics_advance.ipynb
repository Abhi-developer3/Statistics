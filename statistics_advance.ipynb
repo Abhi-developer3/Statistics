{
  "nbformat": 4,
  "nbformat_minor": 0,
  "metadata": {
    "colab": {
      "provenance": []
    },
    "kernelspec": {
      "name": "python3",
      "display_name": "Python 3"
    },
    "language_info": {
      "name": "python"
    }
  },
  "cells": [
    {
      "cell_type": "markdown",
      "source": [
        "# **Statistics Advance Part 1**"
      ],
      "metadata": {
        "id": "iaRXFScbgQlv"
      }
    },
    {
      "cell_type": "markdown",
      "source": [
        "1. What is a random variable in probability theory?\n",
        "- A random variable is a numerical outcome of a random process or experiment. It assigns a number to each possible outcome in a sample space.\n",
        "2. What are the types of random variables?\n",
        "- Discrete Random Variable: Takes countable values (e.g., 0, 1, 2, …).\n",
        "\n",
        " Continuous Random Variable: Takes an infinite number of possible values within a range.\n",
        "3. What is the difference between discrete and continuous distributions?\n",
        "- **Discrete distribution** deals with distinct values (e.g., number of heads in coin tosses).\n",
        "\n",
        " **Continuous distribution** deals with data that can take any value within a range (e.g., height, weight).\n",
        "4. What are probability distribution functions (PDF)?\n",
        "-  PDF describes the likelihood of a random variable taking a specific value (discrete) or falling within a range (continuous). For continuous variables, PDF is a function such that the area under the curve gives the probability.\n",
        "5. How do cumulative distribution functions (CDF) differ from probability distribution functions (PDF)?\n",
        "- PDF shows probability for a single value or interval.\n",
        "\n",
        " CDF gives the cumulative probability that a variable takes a value less than or equal to a certain threshold.\n",
        "6. What is a discrete uniform distribution?\n",
        "- A distribution where all outcomes have equal probability. For example, rolling a fair die where each number (1-6) has a probability of 1/6.\n",
        "7. What are the key properties of a Bernoulli distribution?\n",
        "- Two outcomes: success (1) or failure (0).\n",
        "\n",
        " One trial only.\n",
        "\n",
        " Probability of success = p, failure = 1 - p.\n",
        "8. What is the binomial distribution, and how is it used in probability?\n",
        "- The binomial distribution is a discrete probability distribution that models the number of successes in a fixed number of independent trials, where each trial has only two possible outcomes: success or failure.\n",
        "9. What is the Poisson distribution and where is it applied?\n",
        "- It models the number of events in a fixed interval of time or space when events occur independently at a constant rate.\n",
        "Used for modeling rare events (e.g., number of emails per hour).\n",
        "10. What is a continuous uniform distribution?\n",
        "- A continuous uniform distribution is a type of probability distribution where all values in a given continuous range are equally likely to occur. Unlike discrete distributions, where the outcomes are countable, a continuous uniform distribution is defined over an interval of real numbers.\n",
        "11. What are the characteristics of a normal distribution?\n",
        "- Symmetrical and bell-shaped\n",
        "\n",
        " Mean = Median = Mode\n",
        "\n",
        " Defined by mean (μ) and standard deviation (σ)\n",
        "12. What is the standard normal distribution, and why is it important?\n",
        "- The standard normal distribution is a normal distribution with a mean of 0 and a standard deviation of 1. It is important because it simplifies calculations by converting any normal distribution into a common scale, using Z-scores. This allows easier probability calculations, comparisons between different datasets, and statistical analysis.\n",
        "13.  What is the Central Limit Theorem (CLT), and why is it critical in statistics?\n",
        "- CLT states that the sampling distribution of the sample mean approaches a normal distribution as the sample size increases, regardless of the original distribution.\n",
        "    \n",
        "    Importance: It enables use of normal approximation for inference.\n",
        "14. How does the Central Limit Theorem relate to the normal distribution?\n",
        "- It justifies using the normal distribution to approximate sample means even if the original data is not normal (for large n).\n",
        "15. What is the application of Z statistics in hypothesis testing?\n",
        "- In hypothesis testing, Z-statistics are used to determine how far a sample mean (or other test statistic) is from the population mean in terms of standard deviations. It helps assess whether a sample comes from a population with a specific mean.\n",
        "\n",
        " Application: Standardizing the test statistic: Z-statistics convert the difference between the sample statistic and the population parameter into a standardized value.\n",
        "\n",
        " Decision making: By comparing the calculated Z-value to critical values from the Z-distribution (or using p-values), we can either reject or fail to reject the null hypothesis.\n",
        "16.  How do you calculate a Z-score, and what does it represent?\n",
        "- A Z-score is a measure of how many standard deviations a data point is from the mean of the dataset.\n",
        "\n",
        " **Steps to Calculate a Z-score:**\n",
        "\n",
        " Find the mean (μ) of the dataset.\n",
        "\n",
        " Find the standard deviation (σ) of the dataset.\n",
        "\n",
        " Subtract the mean from the data point ( X−μ).\n",
        "\n",
        " Divide by the standard deviation to get the Z-score.\n",
        "\n",
        " **What does a Z-score represent?**\n",
        "\n",
        " A Z-score of 0 means the data point is exactly at the mean.\n",
        "\n",
        " A positive Z-score indicates the data point is above the mean.\n",
        "\n",
        " A negative Z-score indicates the data point is below the mean.\n",
        "\n",
        " The magnitude of the Z-score shows how far the data point is from the mean in terms of standard deviations.\n",
        "17. What are point estimates and interval estimates in statistics?\n",
        "- Point estimate: Single value estimate of a parameter (e.g., sample mean).\n",
        "\n",
        " Interval estimate: Range within which the parameter likely falls (e.g., confidence interval).\n",
        "18. What is the significance of confidence intervals in statistical analysis?\n",
        "- Confidence intervals (CIs) are significant in statistical analysis because they provide a range of values within which a population parameter is likely to fall, with a certain level of confidence (e.g., 95%). Instead of offering a single estimate, a confidence interval accounts for sampling variability and uncertainty. This helps in making more reliable conclusions, as it gives an indication of the precision of the estimate and the likelihood that the true parameter lies within the interval. Confidence intervals are essential for hypothesis testing, decision-making, and understanding the reliability of sample-based estimates.\n",
        "19. What is the relationship between a Z-score and a confidence interval?\n",
        "- Z-scores are used to determine the bounds of a confidence interval under the standard normal distribution.\n",
        "20. How are Z-scores used to compare different distributions?\n",
        "- Z-scores are used to compare different distributions by standardizing data, allowing you to assess how far a value is from the mean in terms of standard deviations, regardless of the original distribution's scale or units. This makes it possible to compare data from different distributions on a common scale.\n",
        "21. What are the assumptions for applying the Central Limit Theorem?\n",
        "- Independent and identically distributed (i.i.d.) samples\n",
        "\n",
        " Sample size is large (typically n ≥ 30)\n",
        "\n",
        " Finite mean and variance\n",
        "22. What is the concept of expected value in a probability distribution?\n",
        "- The expected value (EV) in a probability distribution represents the average or mean value of a random variable, weighted by the probabilities of different outcomes. It is the long-term average you would expect if an experiment or process were repeated many times.\n",
        "23. How does a probability distribution relate to the expected outcome of a random variable?\n",
        "- The distribution determines the probability of each outcome, and the expected value is the weighted average based on this distribution."
      ],
      "metadata": {
        "id": "HldQdED5gUA-"
      }
    }
  ]
}